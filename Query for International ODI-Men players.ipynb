{
 "cells": [
  {
   "cell_type": "code",
   "execution_count": 241,
   "metadata": {
    "collapsed": true
   },
   "outputs": [],
   "source": [
    "from bs4 import BeautifulSoup as soup\n",
    "from urllib.request import urlopen as uReq\n",
    "import pandas as pd\n",
    "\n",
    "\n",
    "import numpy as np\n",
    "#import seaborn as sns\n",
    "import matplotlib.pyplot as plt\n",
    "%matplotlib inline\n",
    "from collections import Counter\n",
    "import warnings\n",
    "warnings.filterwarnings(\"ignore\")"
   ]
  },
  {
   "cell_type": "code",
   "execution_count": 242,
   "metadata": {
    "collapsed": true
   },
   "outputs": [],
   "source": [
    "from selenium.webdriver.common.keys import Keys"
   ]
  },
  {
   "cell_type": "code",
   "execution_count": 277,
   "metadata": {},
   "outputs": [
    {
     "name": "stdout",
     "output_type": "stream",
     "text": [
      "Excel sheet for 2492 known odi players... \n",
      "You can look up for any of the player's query or try a player other than these if you want to try..!!! \n"
     ]
    }
   ],
   "source": [
    "import os\n",
    "print(\"Excel sheet for 2492 known odi players... \\nYou can look up for any of the player's query or try a player other than these if you want to try..!!! \")\n",
    "os.startfile(r'C:\\Users\\HP\\odi2.csv')"
   ]
  },
  {
   "cell_type": "code",
   "execution_count": 278,
   "metadata": {},
   "outputs": [
    {
     "name": "stdout",
     "output_type": "stream",
     "text": [
      "Enter player name Aamer Hameed\n"
     ]
    }
   ],
   "source": [
    "from selenium import webdriver\n",
    "from selenium.webdriver.support.select import Select\n",
    "path = r\"F:\\Edad Review 1\\chromedriver.exe\"\n",
    "driver = webdriver.Chrome(path)\n",
    "driver.get(\"http://www.howstat.com/cricket/Statistics/Players/PlayerMenu.asp\")\n",
    "\n",
    "pl_obj = driver.find_element_by_name(\"txtPlayer\")\n",
    "p_name = input('Enter player name ')\n",
    "pl_obj.send_keys(p_name)\n",
    "pl_obj.send_keys(Keys.ENTER)\n",
    "\n",
    "python_button = driver.find_elements_by_name(\"btnFindPlayer\")[0]"
   ]
  },
  {
   "cell_type": "code",
   "execution_count": 279,
   "metadata": {},
   "outputs": [],
   "source": [
    "x = driver.find_element_by_xpath(\"//a[contains(text(), p_name)]\")"
   ]
  },
  {
   "cell_type": "code",
   "execution_count": 280,
   "metadata": {},
   "outputs": [
    {
     "name": "stdout",
     "output_type": "stream",
     "text": [
      "Aamer Hameed (18/10/1954)\n"
     ]
    }
   ],
   "source": [
    "element1 = driver.find_element_by_css_selector(\"table.TableLined a\")\n",
    "print (element1.text)"
   ]
  },
  {
   "cell_type": "code",
   "execution_count": 281,
   "metadata": {},
   "outputs": [],
   "source": [
    "driver.find_element_by_link_text(element1.text).click()"
   ]
  },
  {
   "cell_type": "code",
   "execution_count": 282,
   "metadata": {},
   "outputs": [
    {
     "name": "stdout",
     "output_type": "stream",
     "text": [
      "One Day Internationals\n"
     ]
    }
   ],
   "source": [
    "element2 = driver.find_element_by_css_selector(\"td.ODIHeading a\")\n",
    "print (element2.text)"
   ]
  },
  {
   "cell_type": "code",
   "execution_count": 283,
   "metadata": {
    "collapsed": true
   },
   "outputs": [],
   "source": [
    "driver.find_element_by_link_text(element2.text).click()"
   ]
  },
  {
   "cell_type": "code",
   "execution_count": 284,
   "metadata": {},
   "outputs": [],
   "source": [
    "title = \"Analysis of performances in each calendar year\""
   ]
  },
  {
   "cell_type": "code",
   "execution_count": 285,
   "metadata": {},
   "outputs": [],
   "source": [
    "driver.find_element_by_link_text('Performances by Year').click()"
   ]
  },
  {
   "cell_type": "code",
   "execution_count": 286,
   "metadata": {
    "collapsed": true
   },
   "outputs": [],
   "source": [
    "soup_level2=soup(driver.page_source, 'lxml')"
   ]
  },
  {
   "cell_type": "code",
   "execution_count": 287,
   "metadata": {},
   "outputs": [
    {
     "name": "stdout",
     "output_type": "stream",
     "text": [
      "<class 'bs4.element.Tag'>\n"
     ]
    }
   ],
   "source": [
    "data_table= soup_level2.find('table',{'class':'TableLined'})\n",
    "print(type(data_table))"
   ]
  },
  {
   "cell_type": "code",
   "execution_count": 288,
   "metadata": {
    "scrolled": true
   },
   "outputs": [],
   "source": [
    "COL=[]\n",
    "ROW=[]\n",
    "for row in data_table.findAll('tr'):\n",
    "    for col in row.findAll('td'):\n",
    "        #print(col.text)\n",
    "        COL.append(col.text)\n",
    "    ROW.append(COL)\n",
    "    COL=[]"
   ]
  },
  {
   "cell_type": "code",
   "execution_count": 306,
   "metadata": {},
   "outputs": [],
   "source": [
    "del ROW[0]"
   ]
  },
  {
   "cell_type": "code",
   "execution_count": 290,
   "metadata": {},
   "outputs": [],
   "source": [
    "year = []\n",
    "runs = []\n",
    "for x in ROW:\n",
    "    year.append(x[0])\n",
    "    runs.append(x[8])"
   ]
  },
  {
   "cell_type": "code",
   "execution_count": null,
   "metadata": {
    "collapsed": true
   },
   "outputs": [],
   "source": [
    "driver.close()"
   ]
  },
  {
   "cell_type": "code",
   "execution_count": 291,
   "metadata": {},
   "outputs": [
    {
     "name": "stdout",
     "output_type": "stream",
     "text": [
      "['1977', '1978', '                              Overall (2)                            ']\n",
      "['0 ', '0 ', '0 ']\n"
     ]
    }
   ],
   "source": [
    "year3 = []\n",
    "for i in year:\n",
    "    year2 = i.replace(\"\\n\",\"\")\n",
    "    year3.append(year2)\n",
    "print(year3)\n",
    "\n",
    "runs3 = []\n",
    "for j in runs:\n",
    "    runs2 = j.replace(\"\\n\",\"\")\n",
    "    runs2 = runs2.replace(\",  \",\"\")\n",
    "    runs2 = runs2.replace(\"\\t\",\"\")\n",
    "    runs2 = runs2.replace(\"                              \",\"\")\n",
    "    \n",
    "    runs3.append(runs2)\n",
    "print(runs3)"
   ]
  },
  {
   "cell_type": "code",
   "execution_count": 292,
   "metadata": {},
   "outputs": [],
   "source": [
    "df=pd.DataFrame()\n",
    "df['YEAR']= year3\n",
    "df['RUNS']= runs3"
   ]
  },
  {
   "cell_type": "code",
   "execution_count": 293,
   "metadata": {},
   "outputs": [],
   "source": [
    "df.drop(df.tail(1).index,inplace=True) # drop last row"
   ]
  },
  {
   "cell_type": "code",
   "execution_count": 294,
   "metadata": {},
   "outputs": [],
   "source": [
    "rc = df.shape[0]"
   ]
  },
  {
   "cell_type": "code",
   "execution_count": 295,
   "metadata": {},
   "outputs": [],
   "source": [
    "df[\"YEAR\"] = pd.to_numeric(df[\"YEAR\"])"
   ]
  },
  {
   "cell_type": "code",
   "execution_count": 296,
   "metadata": {
    "collapsed": true
   },
   "outputs": [],
   "source": [
    "df[\"RUNS\"] = pd.to_numeric(df[\"RUNS\"])"
   ]
  },
  {
   "cell_type": "code",
   "execution_count": 303,
   "metadata": {},
   "outputs": [
    {
     "name": "stdout",
     "output_type": "stream",
     "text": [
      "Start year is  1977\n",
      "End year is  1978\n",
      "***Enter query year in this range***\n"
     ]
    }
   ],
   "source": [
    "print(\"Start year is \",year3[0])\n",
    "print(\"End year is \",year3[-2])\n",
    "print(\"***Enter query year in this range***\")"
   ]
  },
  {
   "cell_type": "code",
   "execution_count": 304,
   "metadata": {},
   "outputs": [
    {
     "name": "stdout",
     "output_type": "stream",
     "text": [
      "Enter the start year for runs query ---- 1977\n",
      "Enter the end year for runs query ---- 1978\n",
      "Valid query\n",
      "Total runs scored in International ODI matches during given period is  0\n"
     ]
    }
   ],
   "source": [
    "start = int(input(\"Enter the start year for runs query ---- \"))\n",
    "end = int(input(\"Enter the end year for runs query ---- \"))\n",
    "if (start>=df.iloc[0,0] and end<=df.iloc[rc-1,0] and start<=end):\n",
    "    print(\"Valid query\")\n",
    "    start_index = df[df['YEAR']==start].index.item()\n",
    "    end_index = df[df['YEAR']==end].index.item()\n",
    "    #print(start_index)\n",
    "    #print(end_index)\n",
    "    run_f = df.iloc[start_index:end_index+1, 1].sum()\n",
    "    print(\"Total runs scored in International ODI matches during given period is \",run_f)\n",
    "else:\n",
    "    print(\"Invalid query\")"
   ]
  },
  {
   "cell_type": "code",
   "execution_count": 305,
   "metadata": {
    "collapsed": true
   },
   "outputs": [],
   "source": []
  },
  {
   "cell_type": "code",
   "execution_count": null,
   "metadata": {
    "collapsed": true
   },
   "outputs": [],
   "source": []
  }
 ],
 "metadata": {
  "kernelspec": {
   "display_name": "Python 3",
   "language": "python",
   "name": "python3"
  },
  "language_info": {
   "codemirror_mode": {
    "name": "ipython",
    "version": 3
   },
   "file_extension": ".py",
   "mimetype": "text/x-python",
   "name": "python",
   "nbconvert_exporter": "python",
   "pygments_lexer": "ipython3",
   "version": "3.6.3"
  }
 },
 "nbformat": 4,
 "nbformat_minor": 2
}
