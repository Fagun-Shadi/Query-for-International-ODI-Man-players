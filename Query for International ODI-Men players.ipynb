{
 "cells": [
  {
   "cell_type": "code",
   "execution_count": 308,
   "metadata": {
    "collapsed": true
   },
   "outputs": [],
   "source": [
    "from bs4 import BeautifulSoup as soup\n",
    "from urllib.request import urlopen as uReq\n",
    "import pandas as pd\n",
    "\n",
    "\n",
    "import numpy as np\n",
    "#import seaborn as sns\n",
    "import matplotlib.pyplot as plt\n",
    "%matplotlib inline\n",
    "from collections import Counter\n",
    "import warnings\n",
    "warnings.filterwarnings(\"ignore\")"
   ]
  },
  {
   "cell_type": "code",
   "execution_count": 309,
   "metadata": {
    "collapsed": true
   },
   "outputs": [],
   "source": [
    "from selenium.webdriver.common.keys import Keys"
   ]
  },
  {
   "cell_type": "code",
   "execution_count": 310,
   "metadata": {},
   "outputs": [
    {
     "name": "stdout",
     "output_type": "stream",
     "text": [
      "Excel sheet for 2492 known odi players... \n",
      "You can look up for any of the player's query or try a player other than these if you want to try..!!! \n"
     ]
    }
   ],
   "source": [
    "## code to give an excel sheet as output which contains name of 2492 know ODI players\n",
    "import os\n",
    "print(\"Excel sheet for 2492 known odi players... \\nYou can look up for any of the player's query or try a player other than these if you want to try..!!! \")\n",
    "os.startfile(r'C:\\Users\\HP\\odi2.csv')"
   ]
  },
  {
   "cell_type": "code",
   "execution_count": 311,
   "metadata": {},
   "outputs": [
    {
     "name": "stdout",
     "output_type": "stream",
     "text": [
      "Enter player name Dhoni\n"
     ]
    }
   ],
   "source": [
    "## code to start using selenium driver to access HowStat website and navigate through it\n",
    "\n",
    "from selenium import webdriver\n",
    "from selenium.webdriver.support.select import Select\n",
    "path = r\"F:\\Edad Review 1\\chromedriver.exe\"\n",
    "driver = webdriver.Chrome(path)\n",
    "driver.get(\"http://www.howstat.com/cricket/Statistics/Players/PlayerMenu.asp\")\n",
    "\n",
    "pl_obj = driver.find_element_by_name(\"txtPlayer\")\n",
    "p_name = input('Enter player name ')     ##player whose info is required\n",
    "pl_obj.send_keys(p_name)\n",
    "pl_obj.send_keys(Keys.ENTER)\n",
    "\n",
    "python_button = driver.find_elements_by_name(\"btnFindPlayer\")[0]"
   ]
  },
  {
   "cell_type": "code",
   "execution_count": 312,
   "metadata": {
    "collapsed": true
   },
   "outputs": [],
   "source": [
    "x = driver.find_element_by_xpath(\"//a[contains(text(), p_name)]\")    ## look for the player name in database"
   ]
  },
  {
   "cell_type": "code",
   "execution_count": 313,
   "metadata": {},
   "outputs": [
    {
     "name": "stdout",
     "output_type": "stream",
     "text": [
      "Dhoni, M S (Mahendra Singh Dhoni 07/07/1981)\n"
     ]
    }
   ],
   "source": [
    "element1 = driver.find_element_by_css_selector(\"table.TableLined a\")  ## gives the name stored in database\n",
    "print (element1.text)"
   ]
  },
  {
   "cell_type": "code",
   "execution_count": 314,
   "metadata": {
    "collapsed": true
   },
   "outputs": [],
   "source": [
    "driver.find_element_by_link_text(element1.text).click()  ## click on the player name"
   ]
  },
  {
   "cell_type": "code",
   "execution_count": 315,
   "metadata": {},
   "outputs": [
    {
     "name": "stdout",
     "output_type": "stream",
     "text": [
      "One Day Internationals\n"
     ]
    }
   ],
   "source": [
    "element2 = driver.find_element_by_css_selector(\"td.ODIHeading a\")   ## look for ODI stats option\n",
    "print (element2.text)"
   ]
  },
  {
   "cell_type": "code",
   "execution_count": 316,
   "metadata": {
    "collapsed": true
   },
   "outputs": [],
   "source": [
    "driver.find_element_by_link_text(element2.text).click()   ## click on ODI option"
   ]
  },
  {
   "cell_type": "code",
   "execution_count": 317,
   "metadata": {
    "collapsed": true
   },
   "outputs": [],
   "source": [
    "title = \"Analysis of performances in each calendar year\"    ## look for year by year performance"
   ]
  },
  {
   "cell_type": "code",
   "execution_count": 318,
   "metadata": {
    "collapsed": true
   },
   "outputs": [],
   "source": [
    "driver.find_element_by_link_text('Performances by Year').click()   ## click on year by year option"
   ]
  },
  {
   "cell_type": "code",
   "execution_count": 319,
   "metadata": {
    "collapsed": true
   },
   "outputs": [],
   "source": [
    "soup_level2=soup(driver.page_source, 'lxml')   ## handover the final page link to BeautifulSoup to access stored database"
   ]
  },
  {
   "cell_type": "code",
   "execution_count": 320,
   "metadata": {},
   "outputs": [
    {
     "name": "stdout",
     "output_type": "stream",
     "text": [
      "<class 'bs4.element.Tag'>\n"
     ]
    }
   ],
   "source": [
    "data_table= soup_level2.find('table',{'class':'TableLined'})  ## find table of year by year performance\n",
    "print(type(data_table))"
   ]
  },
  {
   "cell_type": "code",
   "execution_count": 321,
   "metadata": {
    "collapsed": true,
    "scrolled": true
   },
   "outputs": [],
   "source": [
    "    ## create a table from HTML code\n",
    "\n",
    "COL=[]\n",
    "ROW=[]\n",
    "for row in data_table.findAll('tr'):\n",
    "    for col in row.findAll('td'):\n",
    "        #print(col.text)\n",
    "        COL.append(col.text)\n",
    "    ROW.append(COL)\n",
    "    COL=[]"
   ]
  },
  {
   "cell_type": "code",
   "execution_count": 322,
   "metadata": {
    "collapsed": true
   },
   "outputs": [],
   "source": [
    "del ROW[0]"
   ]
  },
  {
   "cell_type": "code",
   "execution_count": 323,
   "metadata": {
    "collapsed": true
   },
   "outputs": [],
   "source": [
    "        ## create a table containing YEAR column and corresponding RUNS_scored in that year column\n",
    "year = []\n",
    "runs = []\n",
    "for x in ROW:\n",
    "    year.append(x[0])\n",
    "    runs.append(x[8])"
   ]
  },
  {
   "cell_type": "code",
   "execution_count": 324,
   "metadata": {
    "collapsed": true
   },
   "outputs": [],
   "source": [
    "driver.close()    ##close selenium web driver"
   ]
  },
  {
   "cell_type": "code",
   "execution_count": 325,
   "metadata": {},
   "outputs": [
    {
     "name": "stdout",
     "output_type": "stream",
     "text": [
      "['2004', '2005', '2006', '2007', '2008', '2009', '2010', '2011', '2012', '2013', '2014', '2015', '2016', '2017', '2018', '2019', '                              Overall (16)                            ']\n",
      "['19 ', '895 ', '821 ', '1103 ', '1097 ', '1198 ', '600 ', '764 ', '524 ', '753 ', '418 ', '640 ', '278 ', '788 ', '275 ', '327 ', '10500 ']\n"
     ]
    }
   ],
   "source": [
    "        ## clean the table i.e remove whitespaces, linebreaks etc\n",
    "\n",
    "year3 = []\n",
    "for i in year:\n",
    "    year2 = i.replace(\"\\n\",\"\")\n",
    "    year3.append(year2)\n",
    "print(year3)\n",
    "\n",
    "runs3 = []\n",
    "for j in runs:\n",
    "    runs2 = j.replace(\"\\n\",\"\")\n",
    "    runs2 = runs2.replace(\",  \",\"\")\n",
    "    runs2 = runs2.replace(\"\\t\",\"\")\n",
    "    runs2 = runs2.replace(\"                              \",\"\")\n",
    "    \n",
    "    runs3.append(runs2)\n",
    "print(runs3)"
   ]
  },
  {
   "cell_type": "code",
   "execution_count": 326,
   "metadata": {
    "collapsed": true
   },
   "outputs": [],
   "source": [
    "df=pd.DataFrame()\n",
    "df['YEAR']= year3\n",
    "df['RUNS']= runs3"
   ]
  },
  {
   "cell_type": "code",
   "execution_count": 327,
   "metadata": {
    "collapsed": true
   },
   "outputs": [],
   "source": [
    "df.drop(df.tail(1).index,inplace=True) ## drop last row"
   ]
  },
  {
   "cell_type": "code",
   "execution_count": 328,
   "metadata": {
    "collapsed": true
   },
   "outputs": [],
   "source": [
    "rc = df.shape[0]   ## row_count i.e total active years of player"
   ]
  },
  {
   "cell_type": "code",
   "execution_count": 329,
   "metadata": {
    "collapsed": true
   },
   "outputs": [],
   "source": [
    "df[\"YEAR\"] = pd.to_numeric(df[\"YEAR\"])   ## convert YEAR column which was string to numeric data"
   ]
  },
  {
   "cell_type": "code",
   "execution_count": 330,
   "metadata": {
    "collapsed": true
   },
   "outputs": [],
   "source": [
    "df[\"RUNS\"] = pd.to_numeric(df[\"RUNS\"])   ## convert RUNS column which was string to numeric data"
   ]
  },
  {
   "cell_type": "code",
   "execution_count": 331,
   "metadata": {},
   "outputs": [
    {
     "name": "stdout",
     "output_type": "stream",
     "text": [
      "Start year is  2004\n",
      "End year is  2019\n",
      "***Enter query year in this range***\n"
     ]
    }
   ],
   "source": [
    "        ## start year of player -- end year of player\n",
    "\n",
    "print(\"Start year is \",year3[0])\n",
    "print(\"End year is \",year3[-2])\n",
    "print(\"***Enter query year in this range***\")"
   ]
  },
  {
   "cell_type": "code",
   "execution_count": 342,
   "metadata": {},
   "outputs": [
    {
     "name": "stdout",
     "output_type": "stream",
     "text": [
      "Enter the start year for runs query ---- 2008\n",
      "Enter the end year for runs query ---- 2012\n",
      "Valid query\n",
      "Total runs scored in International ODI matches during given period by Dhoni is  4183\n"
     ]
    }
   ],
   "source": [
    "        ## take input from user for range for which sum has to be found and give that sum as output\n",
    "\n",
    "start = int(input(\"Enter the start year for runs query ---- \"))\n",
    "end = int(input(\"Enter the end year for runs query ---- \"))\n",
    "if (start>=df.iloc[0,0] and end<=df.iloc[rc-1,0] and start<=end):\n",
    "    print(\"Valid query\")\n",
    "    start_index = df[df['YEAR']==start].index.item()\n",
    "    end_index = df[df['YEAR']==end].index.item()\n",
    "    #print(start_index)\n",
    "    #print(end_index)\n",
    "    run_f = df.iloc[start_index:end_index+1, 1].sum()\n",
    "    print(\"Total runs scored in International ODI matches during given period by\", p_name, \"is \",run_f)\n",
    "else:\n",
    "    print(\"Invalid query\")"
   ]
  },
  {
   "cell_type": "code",
   "execution_count": 343,
   "metadata": {},
   "outputs": [
    {
     "name": "stdout",
     "output_type": "stream",
     "text": [
      "Valid query\n",
      "Total runs scored till the end query year i.e 2012 by Dhoni are:  7021\n"
     ]
    }
   ],
   "source": [
    "        ## give output of the total runs scored till the end query year \n",
    "\n",
    "if (start>=df.iloc[0,0] and end<=df.iloc[rc-1,0] and start<=end):\n",
    "    print(\"Valid query\")\n",
    "    end_index = df[df['YEAR']==end].index.item()\n",
    "    total_runs = df.iloc[0:end_index+1, 1].sum()\n",
    "    print(\"Total runs scored till the end query year i.e\", end, \"by\", p_name, \"are: \",total_runs)\n"
   ]
  },
  {
   "cell_type": "code",
   "execution_count": null,
   "metadata": {
    "collapsed": true
   },
   "outputs": [],
   "source": []
  }
 ],
 "metadata": {
  "kernelspec": {
   "display_name": "Python 3",
   "language": "python",
   "name": "python3"
  },
  "language_info": {
   "codemirror_mode": {
    "name": "ipython",
    "version": 3
   },
   "file_extension": ".py",
   "mimetype": "text/x-python",
   "name": "python",
   "nbconvert_exporter": "python",
   "pygments_lexer": "ipython3",
   "version": "3.6.3"
  }
 },
 "nbformat": 4,
 "nbformat_minor": 2
}
